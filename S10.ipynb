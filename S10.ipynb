{
 "cells": [
  {
   "cell_type": "markdown",
   "id": "a555d918",
   "metadata": {},
   "source": [
    "# Exercicis de Web Scraping."
   ]
  },
  {
   "cell_type": "markdown",
   "id": "19a15d23",
   "metadata": {},
   "source": [
    "# Exercici 1\n",
    "Realitza web scraping de dues de les tres pàgines web proposades utilitzant BeautifulSoup primer i Selenium després.\n",
    "\n",
    "http://quotes.toscrape.com\n",
    "\n",
    "https://www.bolsamadrid.es\n",
    "\n",
    "www.wikipedia.es (fes alguna cerca primer i escrapeja algun contingut)"
   ]
  },
  {
   "cell_type": "markdown",
   "id": "3f2f1184",
   "metadata": {},
   "source": [
    "### Beautiful Soup"
   ]
  },
  {
   "cell_type": "code",
   "execution_count": 1,
   "id": "1bb35bcc",
   "metadata": {},
   "outputs": [],
   "source": [
    "import pandas as pd\n",
    "from bs4 import BeautifulSoup\n",
    "import requests"
   ]
  },
  {
   "cell_type": "code",
   "execution_count": 2,
   "id": "b0330d88",
   "metadata": {},
   "outputs": [],
   "source": [
    "#primer link\n",
    "URL = \"http://quotes.toscrape.com/\"\n",
    "page = requests.get(URL)\n",
    "\n",
    "soup = BeautifulSoup(page.content, \"html.parser\")"
   ]
  },
  {
   "cell_type": "markdown",
   "id": "386fc7ea",
   "metadata": {},
   "source": [
    "Volem agafar cada una de les cites del link i afegir el nom del autol al final"
   ]
  },
  {
   "cell_type": "code",
   "execution_count": 3,
   "id": "765af535",
   "metadata": {},
   "outputs": [],
   "source": [
    "results = soup.find(class_=\"container\")"
   ]
  },
  {
   "cell_type": "code",
   "execution_count": 4,
   "id": "e94c0182",
   "metadata": {},
   "outputs": [],
   "source": [
    "quote_elements = results.find_all(\"div\", class_=\"quote\")"
   ]
  },
  {
   "cell_type": "code",
   "execution_count": 5,
   "id": "759f4512",
   "metadata": {},
   "outputs": [
    {
     "name": "stdout",
     "output_type": "stream",
     "text": [
      "“The world as we have created it is a process of our thinking. It cannot be changed without changing our thinking.” , by Albert Einstein\n",
      "\n",
      "“It is our choices, Harry, that show what we truly are, far more than our abilities.” , by J.K. Rowling\n",
      "\n",
      "“There are only two ways to live your life. One is as though nothing is a miracle. The other is as though everything is a miracle.” , by Albert Einstein\n",
      "\n",
      "“The person, be it gentleman or lady, who has not pleasure in a good novel, must be intolerably stupid.” , by Jane Austen\n",
      "\n",
      "“Imperfection is beauty, madness is genius and it's better to be absolutely ridiculous than absolutely boring.” , by Marilyn Monroe\n",
      "\n",
      "“Try not to become a man of success. Rather become a man of value.” , by Albert Einstein\n",
      "\n",
      "“It is better to be hated for what you are than to be loved for what you are not.” , by André Gide\n",
      "\n",
      "“I have not failed. I've just found 10,000 ways that won't work.” , by Thomas A. Edison\n",
      "\n",
      "“A woman is like a tea bag; you never know how strong it is until it's in hot water.” , by Eleanor Roosevelt\n",
      "\n",
      "“A day without sunshine is like, you know, night.” , by Steve Martin\n",
      "\n"
     ]
    }
   ],
   "source": [
    "for i in quote_elements:\n",
    "  quote = i.find(\"span\", class_=\"text\") #Agafem el text de la cita.\n",
    "  author = i.find(\"small\", class_=\"author\") #Agafem el nom del autor.\n",
    "  print(quote.text, \", by\", author.text)\n",
    "  print()"
   ]
  },
  {
   "cell_type": "code",
   "execution_count": 6,
   "id": "50d0d4a9",
   "metadata": {},
   "outputs": [],
   "source": [
    "#Segon link\n",
    "URL2 = \"https://www.bolsamadrid.es/esp/aspx/Mercados/Precios.aspx?indice=ESI100000000\"\n",
    "page2 = requests.get(URL2)\n",
    "\n",
    "soup2 = BeautifulSoup(page2.text, \"lxml\")"
   ]
  },
  {
   "cell_type": "markdown",
   "id": "bae8d08b",
   "metadata": {},
   "source": [
    "En aquest cas volem agafar la taula del Ibex35"
   ]
  },
  {
   "cell_type": "code",
   "execution_count": 7,
   "id": "c7a96a38",
   "metadata": {},
   "outputs": [],
   "source": [
    "table = soup2.find(\"table\", id=\"ctl00_Contenido_tblAcciones\")"
   ]
  },
  {
   "cell_type": "code",
   "execution_count": 9,
   "id": "d77a88c0",
   "metadata": {},
   "outputs": [
    {
     "data": {
      "text/plain": [
       "['Nombre',\n",
       " 'Últ.',\n",
       " '% Dif.',\n",
       " 'Máx.',\n",
       " 'Mín.',\n",
       " 'Volumen',\n",
       " 'Efectivo (miles €)',\n",
       " 'Fecha',\n",
       " 'Hora']"
      ]
     },
     "execution_count": 9,
     "metadata": {},
     "output_type": "execute_result"
    }
   ],
   "source": [
    "#Com que l'etiqueta 'th' fa referència exclusivament a els noms de les columnes, les guardem en una llista per crear el df.\n",
    "cols = []\n",
    "\n",
    "for i in table.find_all('th'):\n",
    "  cols.append(i.text)\n",
    "cols"
   ]
  },
  {
   "cell_type": "code",
   "execution_count": 10,
   "id": "491cd58e",
   "metadata": {
    "scrolled": true
   },
   "outputs": [
    {
     "data": {
      "text/html": [
       "<div>\n",
       "<style scoped>\n",
       "    .dataframe tbody tr th:only-of-type {\n",
       "        vertical-align: middle;\n",
       "    }\n",
       "\n",
       "    .dataframe tbody tr th {\n",
       "        vertical-align: top;\n",
       "    }\n",
       "\n",
       "    .dataframe thead th {\n",
       "        text-align: right;\n",
       "    }\n",
       "</style>\n",
       "<table border=\"1\" class=\"dataframe\">\n",
       "  <thead>\n",
       "    <tr style=\"text-align: right;\">\n",
       "      <th></th>\n",
       "      <th>Nombre</th>\n",
       "      <th>Últ.</th>\n",
       "      <th>% Dif.</th>\n",
       "      <th>Máx.</th>\n",
       "      <th>Mín.</th>\n",
       "      <th>Volumen</th>\n",
       "      <th>Efectivo (miles €)</th>\n",
       "      <th>Fecha</th>\n",
       "      <th>Hora</th>\n",
       "    </tr>\n",
       "  </thead>\n",
       "  <tbody>\n",
       "    <tr>\n",
       "      <th>0</th>\n",
       "      <td>ACCIONA</td>\n",
       "      <td>182,8000</td>\n",
       "      <td>-2,30</td>\n",
       "      <td>186,6000</td>\n",
       "      <td>181,2000</td>\n",
       "      <td>118.599</td>\n",
       "      <td>21.720,10</td>\n",
       "      <td>26/09/2022</td>\n",
       "      <td>Cierre</td>\n",
       "    </tr>\n",
       "    <tr>\n",
       "      <th>1</th>\n",
       "      <td>ACCIONA ENER</td>\n",
       "      <td>38,5600</td>\n",
       "      <td>-2,08</td>\n",
       "      <td>39,8400</td>\n",
       "      <td>38,0200</td>\n",
       "      <td>228.230</td>\n",
       "      <td>8.801,14</td>\n",
       "      <td>26/09/2022</td>\n",
       "      <td>Cierre</td>\n",
       "    </tr>\n",
       "    <tr>\n",
       "      <th>2</th>\n",
       "      <td>ACERINOX</td>\n",
       "      <td>8,2840</td>\n",
       "      <td>-0,02</td>\n",
       "      <td>8,4440</td>\n",
       "      <td>8,1300</td>\n",
       "      <td>1.053.723</td>\n",
       "      <td>8.714,17</td>\n",
       "      <td>26/09/2022</td>\n",
       "      <td>Cierre</td>\n",
       "    </tr>\n",
       "    <tr>\n",
       "      <th>3</th>\n",
       "      <td>ACS</td>\n",
       "      <td>22,0500</td>\n",
       "      <td>-0,36</td>\n",
       "      <td>22,3000</td>\n",
       "      <td>21,8000</td>\n",
       "      <td>617.497</td>\n",
       "      <td>13.595,12</td>\n",
       "      <td>26/09/2022</td>\n",
       "      <td>Cierre</td>\n",
       "    </tr>\n",
       "    <tr>\n",
       "      <th>4</th>\n",
       "      <td>AENA</td>\n",
       "      <td>109,2500</td>\n",
       "      <td>0,23</td>\n",
       "      <td>110,9000</td>\n",
       "      <td>108,0000</td>\n",
       "      <td>116.875</td>\n",
       "      <td>12.792,59</td>\n",
       "      <td>26/09/2022</td>\n",
       "      <td>Cierre</td>\n",
       "    </tr>\n",
       "    <tr>\n",
       "      <th>5</th>\n",
       "      <td>AMADEUS</td>\n",
       "      <td>46,5100</td>\n",
       "      <td>0,30</td>\n",
       "      <td>47,3000</td>\n",
       "      <td>45,8900</td>\n",
       "      <td>616.262</td>\n",
       "      <td>28.739,19</td>\n",
       "      <td>26/09/2022</td>\n",
       "      <td>Cierre</td>\n",
       "    </tr>\n",
       "    <tr>\n",
       "      <th>6</th>\n",
       "      <td>ARCELORMIT.</td>\n",
       "      <td>20,9500</td>\n",
       "      <td>-0,38</td>\n",
       "      <td>21,3750</td>\n",
       "      <td>20,6650</td>\n",
       "      <td>372.709</td>\n",
       "      <td>7.824,08</td>\n",
       "      <td>26/09/2022</td>\n",
       "      <td>Cierre</td>\n",
       "    </tr>\n",
       "    <tr>\n",
       "      <th>7</th>\n",
       "      <td>B.SANTANDER</td>\n",
       "      <td>2,4965</td>\n",
       "      <td>-1,11</td>\n",
       "      <td>2,5255</td>\n",
       "      <td>2,4665</td>\n",
       "      <td>55.292.452</td>\n",
       "      <td>138.264,11</td>\n",
       "      <td>26/09/2022</td>\n",
       "      <td>Cierre</td>\n",
       "    </tr>\n",
       "    <tr>\n",
       "      <th>8</th>\n",
       "      <td>BA.SABADELL</td>\n",
       "      <td>0,7662</td>\n",
       "      <td>-2,42</td>\n",
       "      <td>0,7830</td>\n",
       "      <td>0,7460</td>\n",
       "      <td>48.836.396</td>\n",
       "      <td>37.342,22</td>\n",
       "      <td>26/09/2022</td>\n",
       "      <td>Cierre</td>\n",
       "    </tr>\n",
       "    <tr>\n",
       "      <th>9</th>\n",
       "      <td>BANKINTER</td>\n",
       "      <td>5,9460</td>\n",
       "      <td>0,64</td>\n",
       "      <td>5,9840</td>\n",
       "      <td>5,8200</td>\n",
       "      <td>2.612.879</td>\n",
       "      <td>15.455,01</td>\n",
       "      <td>26/09/2022</td>\n",
       "      <td>Cierre</td>\n",
       "    </tr>\n",
       "  </tbody>\n",
       "</table>\n",
       "</div>"
      ],
      "text/plain": [
       "         Nombre      Últ. % Dif.      Máx.      Mín.     Volumen  \\\n",
       "0       ACCIONA  182,8000  -2,30  186,6000  181,2000     118.599   \n",
       "1  ACCIONA ENER   38,5600  -2,08   39,8400   38,0200     228.230   \n",
       "2      ACERINOX    8,2840  -0,02    8,4440    8,1300   1.053.723   \n",
       "3           ACS   22,0500  -0,36   22,3000   21,8000     617.497   \n",
       "4          AENA  109,2500   0,23  110,9000  108,0000     116.875   \n",
       "5       AMADEUS   46,5100   0,30   47,3000   45,8900     616.262   \n",
       "6   ARCELORMIT.   20,9500  -0,38   21,3750   20,6650     372.709   \n",
       "7   B.SANTANDER    2,4965  -1,11    2,5255    2,4665  55.292.452   \n",
       "8   BA.SABADELL    0,7662  -2,42    0,7830    0,7460  48.836.396   \n",
       "9     BANKINTER    5,9460   0,64    5,9840    5,8200   2.612.879   \n",
       "\n",
       "  Efectivo (miles €)       Fecha    Hora  \n",
       "0          21.720,10  26/09/2022  Cierre  \n",
       "1           8.801,14  26/09/2022  Cierre  \n",
       "2           8.714,17  26/09/2022  Cierre  \n",
       "3          13.595,12  26/09/2022  Cierre  \n",
       "4          12.792,59  26/09/2022  Cierre  \n",
       "5          28.739,19  26/09/2022  Cierre  \n",
       "6           7.824,08  26/09/2022  Cierre  \n",
       "7         138.264,11  26/09/2022  Cierre  \n",
       "8          37.342,22  26/09/2022  Cierre  \n",
       "9          15.455,01  26/09/2022  Cierre  "
      ]
     },
     "execution_count": 10,
     "metadata": {},
     "output_type": "execute_result"
    }
   ],
   "source": [
    "#Creem el df i afegim les dades\n",
    "df=pd.DataFrame(columns = cols)\n",
    "\n",
    "for i in table.find_all('tr')[1:]:\n",
    "  row_data = i.find_all('td') #Agafem la informació de cada cel·la.\n",
    "  row = [j.text for j in row_data] #Ho agrupem en files\n",
    "  df.loc[len(df)] = row #Afegim les files al df\n",
    "\n",
    "df.head(10)"
   ]
  },
  {
   "cell_type": "markdown",
   "id": "494659d3",
   "metadata": {},
   "source": [
    "### Selenium"
   ]
  },
  {
   "cell_type": "code",
   "execution_count": 11,
   "id": "a7fcdcff",
   "metadata": {},
   "outputs": [],
   "source": [
    "from selenium.webdriver import Chrome\n",
    "from selenium.webdriver.chrome.options import Options\n",
    "from selenium import webdriver\n",
    "from selenium.webdriver.common.by import By\n",
    "opts = webdriver.ChromeOptions()\n",
    "opts.add_argument('--start-maximized')\n",
    "opts.add_argument('--disable-extensions')"
   ]
  },
  {
   "cell_type": "code",
   "execution_count": 12,
   "id": "80262c0d",
   "metadata": {},
   "outputs": [
    {
     "name": "stderr",
     "output_type": "stream",
     "text": [
      "C:\\Users\\David\\AppData\\Local\\Temp\\ipykernel_29868\\848091844.py:3: DeprecationWarning: executable_path has been deprecated, please pass in a Service object\n",
      "  driver= webdriver.Chrome(executable_path=driver_path, chrome_options = opts)\n",
      "C:\\Users\\David\\AppData\\Local\\Temp\\ipykernel_29868\\848091844.py:3: DeprecationWarning: use options instead of chrome_options\n",
      "  driver= webdriver.Chrome(executable_path=driver_path, chrome_options = opts)\n"
     ]
    }
   ],
   "source": [
    "driver_path = (r\"D:\\David\\Documents\\anaconda3\\chromedriver.exe\")\n",
    "\n",
    "driver= webdriver.Chrome(executable_path=driver_path, chrome_options = opts)"
   ]
  },
  {
   "cell_type": "code",
   "execution_count": 13,
   "id": "ddc76483",
   "metadata": {},
   "outputs": [],
   "source": [
    "# Primer link\n",
    "driver.get(URL)"
   ]
  },
  {
   "cell_type": "markdown",
   "id": "11c8b252",
   "metadata": {},
   "source": [
    "Agafarem les mateixes dades que amb el mètode de Beautiful Soup"
   ]
  },
  {
   "cell_type": "code",
   "execution_count": 14,
   "id": "74e1f656",
   "metadata": {
    "scrolled": true
   },
   "outputs": [
    {
     "name": "stdout",
     "output_type": "stream",
     "text": [
      "“The world as we have created it is a process of our thinking. It cannot be changed without changing our thinking.” ,  Albert Einstein \n",
      "\n",
      "“It is our choices, Harry, that show what we truly are, far more than our abilities.” ,  J.K. Rowling \n",
      "\n",
      "“There are only two ways to live your life. One is as though nothing is a miracle. The other is as though everything is a miracle.” ,  Albert Einstein \n",
      "\n",
      "“The person, be it gentleman or lady, who has not pleasure in a good novel, must be intolerably stupid.” ,  Jane Austen \n",
      "\n",
      "“Imperfection is beauty, madness is genius and it's better to be absolutely ridiculous than absolutely boring.” ,  Marilyn Monroe \n",
      "\n",
      "“Try not to become a man of success. Rather become a man of value.” ,  Albert Einstein \n",
      "\n",
      "“It is better to be hated for what you are than to be loved for what you are not.” ,  André Gide \n",
      "\n",
      "“I have not failed. I've just found 10,000 ways that won't work.” ,  Thomas A. Edison \n",
      "\n",
      "“A woman is like a tea bag; you never know how strong it is until it's in hot water.” ,  Eleanor Roosevelt \n",
      "\n",
      "“A day without sunshine is like, you know, night.” ,  Steve Martin \n",
      "\n"
     ]
    }
   ],
   "source": [
    "quotes = driver.find_elements(By.CLASS_NAME, \"quote\") # Agafem tota la informació de totes les cites\n",
    "for i in quotes:\n",
    "    quote = i.find_element(By.CLASS_NAME, \"text\") # Agafem el text de la cita\n",
    "    author = i.find_element(By.CLASS_NAME, \"author\") #Agafem el nom de l'autor\n",
    "    print(quote.text, \", \", author.text, \"\\n\")"
   ]
  },
  {
   "cell_type": "code",
   "execution_count": 15,
   "id": "25531cbe",
   "metadata": {},
   "outputs": [],
   "source": [
    "# Segon link\n",
    "driver.get(URL2)"
   ]
  },
  {
   "cell_type": "code",
   "execution_count": 16,
   "id": "d33b6859",
   "metadata": {},
   "outputs": [
    {
     "data": {
      "text/plain": [
       "['Nombre',\n",
       " 'Últ.',\n",
       " '% Dif.',\n",
       " 'Máx.',\n",
       " 'Mín.',\n",
       " 'Volumen',\n",
       " 'Efectivo (miles €)',\n",
       " 'Fecha',\n",
       " 'Hora']"
      ]
     },
     "execution_count": 16,
     "metadata": {},
     "output_type": "execute_result"
    }
   ],
   "source": [
    "cols= []\n",
    "\n",
    "for i in driver.find_elements(By.TAG_NAME, 'th'):\n",
    "    cols.append(i.text)\n",
    "cols = cols[-9:]\n",
    "cols"
   ]
  },
  {
   "cell_type": "code",
   "execution_count": 17,
   "id": "4ff4ef2f",
   "metadata": {},
   "outputs": [
    {
     "data": {
      "text/html": [
       "<div>\n",
       "<style scoped>\n",
       "    .dataframe tbody tr th:only-of-type {\n",
       "        vertical-align: middle;\n",
       "    }\n",
       "\n",
       "    .dataframe tbody tr th {\n",
       "        vertical-align: top;\n",
       "    }\n",
       "\n",
       "    .dataframe thead th {\n",
       "        text-align: right;\n",
       "    }\n",
       "</style>\n",
       "<table border=\"1\" class=\"dataframe\">\n",
       "  <thead>\n",
       "    <tr style=\"text-align: right;\">\n",
       "      <th></th>\n",
       "      <th>Nombre</th>\n",
       "      <th>Últ.</th>\n",
       "      <th>% Dif.</th>\n",
       "      <th>Máx.</th>\n",
       "      <th>Mín.</th>\n",
       "      <th>Volumen</th>\n",
       "      <th>Efectivo (miles €)</th>\n",
       "      <th>Fecha</th>\n",
       "      <th>Hora</th>\n",
       "    </tr>\n",
       "  </thead>\n",
       "  <tbody>\n",
       "    <tr>\n",
       "      <th>0</th>\n",
       "      <td>ACCIONA</td>\n",
       "      <td>182,8000</td>\n",
       "      <td>-2,30</td>\n",
       "      <td>186,6000</td>\n",
       "      <td>181,2000</td>\n",
       "      <td>118.599</td>\n",
       "      <td>21.720,10</td>\n",
       "      <td>26/09/2022</td>\n",
       "      <td>Cierre</td>\n",
       "    </tr>\n",
       "    <tr>\n",
       "      <th>1</th>\n",
       "      <td>ACCIONA ENER</td>\n",
       "      <td>38,5600</td>\n",
       "      <td>-2,08</td>\n",
       "      <td>39,8400</td>\n",
       "      <td>38,0200</td>\n",
       "      <td>228.230</td>\n",
       "      <td>8.801,14</td>\n",
       "      <td>26/09/2022</td>\n",
       "      <td>Cierre</td>\n",
       "    </tr>\n",
       "    <tr>\n",
       "      <th>2</th>\n",
       "      <td>ACERINOX</td>\n",
       "      <td>8,2840</td>\n",
       "      <td>-0,02</td>\n",
       "      <td>8,4440</td>\n",
       "      <td>8,1300</td>\n",
       "      <td>1.053.723</td>\n",
       "      <td>8.714,17</td>\n",
       "      <td>26/09/2022</td>\n",
       "      <td>Cierre</td>\n",
       "    </tr>\n",
       "    <tr>\n",
       "      <th>3</th>\n",
       "      <td>ACS</td>\n",
       "      <td>22,0500</td>\n",
       "      <td>-0,36</td>\n",
       "      <td>22,3000</td>\n",
       "      <td>21,8000</td>\n",
       "      <td>617.497</td>\n",
       "      <td>13.595,12</td>\n",
       "      <td>26/09/2022</td>\n",
       "      <td>Cierre</td>\n",
       "    </tr>\n",
       "    <tr>\n",
       "      <th>4</th>\n",
       "      <td>AENA</td>\n",
       "      <td>109,2500</td>\n",
       "      <td>0,23</td>\n",
       "      <td>110,9000</td>\n",
       "      <td>108,0000</td>\n",
       "      <td>116.875</td>\n",
       "      <td>12.792,59</td>\n",
       "      <td>26/09/2022</td>\n",
       "      <td>Cierre</td>\n",
       "    </tr>\n",
       "  </tbody>\n",
       "</table>\n",
       "</div>"
      ],
      "text/plain": [
       "         Nombre      Últ. % Dif.      Máx.      Mín.    Volumen  \\\n",
       "0       ACCIONA  182,8000  -2,30  186,6000  181,2000    118.599   \n",
       "1  ACCIONA ENER   38,5600  -2,08   39,8400   38,0200    228.230   \n",
       "2      ACERINOX    8,2840  -0,02    8,4440    8,1300  1.053.723   \n",
       "3           ACS   22,0500  -0,36   22,3000   21,8000    617.497   \n",
       "4          AENA  109,2500   0,23  110,9000  108,0000    116.875   \n",
       "\n",
       "  Efectivo (miles €)       Fecha    Hora  \n",
       "0          21.720,10  26/09/2022  Cierre  \n",
       "1           8.801,14  26/09/2022  Cierre  \n",
       "2           8.714,17  26/09/2022  Cierre  \n",
       "3          13.595,12  26/09/2022  Cierre  \n",
       "4          12.792,59  26/09/2022  Cierre  "
      ]
     },
     "execution_count": 17,
     "metadata": {},
     "output_type": "execute_result"
    }
   ],
   "source": [
    "df = pd.DataFrame(columns=cols)\n",
    "\n",
    "table = driver.find_element(By.ID, 'ctl00_Contenido_tblAcciones') # Agafem tota la informació de la taula\n",
    "\n",
    "data = []\n",
    "\n",
    "for i in table.find_elements(By.TAG_NAME, 'td'): # Agafem cada una de les cel·les de la taula\n",
    "    data.append(i.text) # Les guardem a una llista\n",
    "    row = [data[x:x+len(cols)] for x in range(0, len(data), len(cols))] # Fem subllistes coincidint amb el nombre de columnes \n",
    "    \n",
    "df = pd.DataFrame(row, columns=cols) # Afegim les files al df\n",
    "df.head()"
   ]
  },
  {
   "cell_type": "markdown",
   "id": "128129e5",
   "metadata": {},
   "source": [
    "# Exercici 2\n",
    "Documenta en un Word el teu conjunt de dades generat amb la informació que tenen els diferents arxius de Kaggle."
   ]
  },
  {
   "cell_type": "markdown",
   "id": "0fedd0de",
   "metadata": {},
   "source": [
    "En aquest exercici aporofitarem la taula del ibex 35 que ja hem obtingut i la guardarem en un document docx"
   ]
  },
  {
   "cell_type": "code",
   "execution_count": 11,
   "id": "5f9c12ca",
   "metadata": {},
   "outputs": [
    {
     "name": "stdout",
     "output_type": "stream",
     "text": [
      "Requirement already satisfied: docx in n:\\anaconda3\\lib\\site-packages (0.2.4)\n",
      "Requirement already satisfied: lxml in n:\\anaconda3\\lib\\site-packages (from docx) (4.8.0)\n",
      "Requirement already satisfied: Pillow>=2.0 in n:\\anaconda3\\lib\\site-packages (from docx) (9.0.1)\n"
     ]
    }
   ],
   "source": [
    "!pip install docx"
   ]
  },
  {
   "cell_type": "code",
   "execution_count": 7,
   "id": "0f8686e2",
   "metadata": {},
   "outputs": [],
   "source": [
    "from docx import Document\n",
    "\n",
    "#Creem el document\n",
    "document = Document()\n",
    "\n",
    "#Afegim un títol\n",
    "document.add_heading('Taula de IBEX 35', 0)\n",
    "\n",
    "#Afegim la resta\n",
    "document.add_heading('Context', 1)\n",
    "document.add_paragraph('En aquesta taula podem veure les diferents comanyies que formen el IBEX 35 juntament amb les '+\n",
    "'seves dades de mercat actualitzades en temps real.'  )\n",
    "\n",
    "document.add_heading('Contingut', 1)\n",
    "document.add_paragraph('Nombre: Nom de lempresa\\n'+\n",
    "                       'Últ.: Registre del preu més actual\\n'+\n",
    "                      '% Dif.: Diferència respecte les últimes 24h en percentatge\\n'+\n",
    "                      'Máx.: Preu màxim en les últimes 24h\\n'+\n",
    "                      'Mín.: Preu mínim en les últimes 24h\\n'+\n",
    "                      'Volúmen: Volum de les últimes 24h d\\n'+\n",
    "                      'Efectivo (miles €): Capitalització total\\n'+\n",
    "                      'Fecha: Data del registre\\n'+\n",
    "                      'Cierre: Estat del mercat\\n')\n",
    "\n",
    "\n",
    "document.save('IBEX 35.docx')"
   ]
  },
  {
   "cell_type": "markdown",
   "id": "cd9f5368",
   "metadata": {},
   "source": [
    "El document .docx es trobarà guardat en el mateix repositori amb el nom de 'IBEX 35.docx'"
   ]
  },
  {
   "cell_type": "markdown",
   "id": "da66db3c",
   "metadata": {},
   "source": [
    "# Exercici 3\n",
    "Tria una pàgina web que tu vulguis i realitza web scraping mitjançant la llibreria Selenium primer i Scrapy després."
   ]
  },
  {
   "cell_type": "markdown",
   "id": "403ea44b",
   "metadata": {},
   "source": [
    "### Selenium\n",
    "Per aquest apartat hem escollit una pàgina per veure les vivendes en alquiles d'un barri determinat i s'ha agafat la informació del preu i del número de habitacions que tenen"
   ]
  },
  {
   "cell_type": "code",
   "execution_count": 21,
   "id": "9d720c99",
   "metadata": {},
   "outputs": [],
   "source": [
    "from selenium.webdriver.support.ui import WebDriverWait\n",
    "from selenium.webdriver.common.by import By\n",
    "from selenium.webdriver.support import expected_conditions as EC\n",
    "from selenium.webdriver.common.action_chains import ActionChains\n",
    "from selenium.webdriver.common.keys import Keys\n",
    "from selenium.common.exceptions import NoSuchElementException, TimeoutException\n",
    "import time\n",
    "import re"
   ]
  },
  {
   "cell_type": "code",
   "execution_count": 22,
   "id": "e3da538f",
   "metadata": {},
   "outputs": [],
   "source": [
    "#Fem una funcó per que agafi els valors de les habitacions de cada casa\n",
    "def getHabsFromPage():\n",
    "    #En aquesta pàgina cal fer scroll perque es carregui la informació de cada casa\n",
    "    #Programem un scroll de 15 passos fins al peu de la pàgina\n",
    "    for i in range (15):\n",
    "        #Per algún motiu desconegut hi ha algunes cases que tenen una icona al costat de cada atribut\n",
    "        #Això fa que no poguem recollir totes les habitacions perque poden tenir dos noms d'etiqueta diferents\n",
    "        #Per això guardem la informació en dues llistes diferents i desprès les unim.\n",
    "        iconList=[]\n",
    "        noIconList=[]\n",
    "        noIcons = driver.find_elements(By.CLASS_NAME, 're-CardFeatures-wrapper')\n",
    "        icons = driver.find_elements(By.CLASS_NAME, 're-CardFeaturesWithIcons-wrapper')\n",
    "\n",
    "        for casa in icons:\n",
    "            nhab = casa.find_element(By.CLASS_NAME, 're-CardFeaturesWithIcons-feature').text\n",
    "            iconList.append(nhab)\n",
    "\n",
    "        for casa in noIcons:\n",
    "            nhab = casa.find_element(By.CLASS_NAME,'re-CardFeatures-feature').text\n",
    "            noIconList.append(nhab)\n",
    "\n",
    "        ActionChains(driver).key_down(Keys.PAGE_DOWN).key_up(Keys.PAGE_DOWN).perform()\n",
    "        time.sleep(0.4)\n",
    "\n",
    "    l = iconList + noIconList\n",
    "    return l"
   ]
  },
  {
   "cell_type": "code",
   "execution_count": 23,
   "id": "9432d8b4",
   "metadata": {},
   "outputs": [],
   "source": [
    "#Funció que fa scroll per la pagina i guarda la el preu en una llista\n",
    "def getPricesFromPage():   \n",
    "    for i in range (15):\n",
    "        html_text = driver.page_source\n",
    "        soup = BeautifulSoup(html_text)\n",
    "        l=[]\n",
    "        casas = soup.find_all('span', class_='re-CardPriceComposite')\n",
    "        for casa in casas:\n",
    "            price = casa.find('span', class_='re-CardPrice').getText()\n",
    "            l.append(price)\n",
    "        ActionChains(driver).key_down(Keys.PAGE_DOWN).key_up(Keys.PAGE_DOWN).perform()\n",
    "        time.sleep(0.4)\n",
    "    return l"
   ]
  },
  {
   "cell_type": "code",
   "execution_count": 24,
   "id": "48a41d14",
   "metadata": {},
   "outputs": [],
   "source": [
    "#Funció per obtenir el número màxim de pàgines\n",
    "def numPages():\n",
    "    num =  driver.find_element(By.XPATH, '//*[@id=\"App\"]/div[2]/div[1]/main/div/div[3]/ul/li[6]/a/span').text\n",
    "    return num"
   ]
  },
  {
   "cell_type": "code",
   "execution_count": 26,
   "id": "86f41a12",
   "metadata": {},
   "outputs": [],
   "source": [
    "driver.get('https://www.fotocasa.es/es/alquiler/viviendas/barcelona-capital/sants-montjuic/l')\n",
    "p = getPricesFromPage()\n",
    "h = getHabsFromPage()\n",
    "num = int(numPages())\n",
    "\n",
    "#Com que hi ha més pàgines, fem el mateix que abans pero iterant en cada una de les pàgines.\n",
    "for i in range(2,num+1):\n",
    "    driver.get(f'https://www.fotocasa.es/es/alquiler/viviendas/barcelona-capital/sants-montjuic/l/{i}')\n",
    "    p = p + getPricesFromPage()\n",
    "    h = h + getHabsFromPage()"
   ]
  },
  {
   "cell_type": "code",
   "execution_count": 31,
   "id": "d2602372",
   "metadata": {},
   "outputs": [
    {
     "data": {
      "text/html": [
       "<div>\n",
       "<style scoped>\n",
       "    .dataframe tbody tr th:only-of-type {\n",
       "        vertical-align: middle;\n",
       "    }\n",
       "\n",
       "    .dataframe tbody tr th {\n",
       "        vertical-align: top;\n",
       "    }\n",
       "\n",
       "    .dataframe thead th {\n",
       "        text-align: right;\n",
       "    }\n",
       "</style>\n",
       "<table border=\"1\" class=\"dataframe\">\n",
       "  <thead>\n",
       "    <tr style=\"text-align: right;\">\n",
       "      <th></th>\n",
       "      <th>Habitacions</th>\n",
       "      <th>Preu</th>\n",
       "    </tr>\n",
       "  </thead>\n",
       "  <tbody>\n",
       "    <tr>\n",
       "      <th>0</th>\n",
       "      <td>1 hab.</td>\n",
       "      <td>890 € /mes</td>\n",
       "    </tr>\n",
       "    <tr>\n",
       "      <th>1</th>\n",
       "      <td>2 habs.</td>\n",
       "      <td>1.890 € /mes</td>\n",
       "    </tr>\n",
       "    <tr>\n",
       "      <th>2</th>\n",
       "      <td>2 habs.</td>\n",
       "      <td>1.600 € /mes</td>\n",
       "    </tr>\n",
       "    <tr>\n",
       "      <th>3</th>\n",
       "      <td>1 hab.</td>\n",
       "      <td>1.089 € /mes</td>\n",
       "    </tr>\n",
       "    <tr>\n",
       "      <th>4</th>\n",
       "      <td>1 hab.</td>\n",
       "      <td>1.300 € /mes</td>\n",
       "    </tr>\n",
       "    <tr>\n",
       "      <th>5</th>\n",
       "      <td>3 habs.</td>\n",
       "      <td>1.250 € /mes</td>\n",
       "    </tr>\n",
       "    <tr>\n",
       "      <th>6</th>\n",
       "      <td>1 hab.</td>\n",
       "      <td>850 € /mes</td>\n",
       "    </tr>\n",
       "    <tr>\n",
       "      <th>7</th>\n",
       "      <td>3 habs.</td>\n",
       "      <td>1.500 € /mes</td>\n",
       "    </tr>\n",
       "    <tr>\n",
       "      <th>8</th>\n",
       "      <td>3 habs.</td>\n",
       "      <td>1.250 € /mes</td>\n",
       "    </tr>\n",
       "    <tr>\n",
       "      <th>9</th>\n",
       "      <td>2 habs.</td>\n",
       "      <td>1.200 € /mes</td>\n",
       "    </tr>\n",
       "  </tbody>\n",
       "</table>\n",
       "</div>"
      ],
      "text/plain": [
       "  Habitacions          Preu\n",
       "0      1 hab.    890 € /mes\n",
       "1     2 habs.  1.890 € /mes\n",
       "2     2 habs.  1.600 € /mes\n",
       "3      1 hab.  1.089 € /mes\n",
       "4      1 hab.  1.300 € /mes\n",
       "5     3 habs.  1.250 € /mes\n",
       "6      1 hab.    850 € /mes\n",
       "7     3 habs.  1.500 € /mes\n",
       "8     3 habs.  1.250 € /mes\n",
       "9     2 habs.  1.200 € /mes"
      ]
     },
     "execution_count": 31,
     "metadata": {},
     "output_type": "execute_result"
    }
   ],
   "source": [
    "df = pd.DataFrame(columns = ['Habitacions','Preu'])\n",
    "df.Preu = p\n",
    "df.Habitacions = h\n",
    "df.head(10)"
   ]
  },
  {
   "cell_type": "markdown",
   "id": "2b43b4bf",
   "metadata": {},
   "source": [
    "### Scrapy\n",
    "Per aquest apartat s'ha buscat els 100 més imprescindibles segons Goodreads i s'ha agafat el títol del llibre i el nom de l'autor/a"
   ]
  },
  {
   "cell_type": "code",
   "execution_count": 28,
   "id": "e9161f89",
   "metadata": {},
   "outputs": [],
   "source": [
    "import scrapy\n",
    "from scrapy.crawler import CrawlerProcess\n",
    "import json\n",
    "\n",
    "class JsonWriterPipeline(object):\n",
    "\n",
    "    def open_spider(self, spider):\n",
    "        self.file = open('bestBooks.jl', 'w')\n",
    "\n",
    "    def close_spider(self, spider):\n",
    "        self.file.close()\n",
    "\n",
    "    def process_item(self, item, spider):\n",
    "        line = json.dumps(dict(item)) + \"\\n\"\n",
    "        self.file.write(line)\n",
    "        return item\n",
    "    \n",
    "import logging\n",
    "\n",
    "class BooksSpider(scrapy.Spider):\n",
    "    name = \"books\"\n",
    "    start_urls = [\n",
    "        'https://www.goodreads.com/list/show/264.Books_That_Everyone_Should_Read_At_Least_Once']\n",
    "    custom_settings = {\n",
    "        'LOG_LEVEL': logging.WARNING,\n",
    "        'ITEM_PIPELINES': {'__main__.JsonWriterPipeline': 1}, # Used for pipeline 1\n",
    "        'FEED_FORMAT':'json',                                 # Used for pipeline 2\n",
    "        'FEED_URI': 'bestBooks.json'                        # Used for pipeline 2\n",
    "    }\n",
    "    \n",
    "    def parse(self, response):\n",
    "        for book in response.css('[itemtype=\"http://schema.org/Book\"]'):\n",
    "            yield {\n",
    "                'Title': book.css('a.bookTitle span::text').extract_first(),\n",
    "                'Author': book.css('a.authorName span::text').extract_first()\n",
    "            }"
   ]
  },
  {
   "cell_type": "code",
   "execution_count": 29,
   "id": "ea224f30",
   "metadata": {},
   "outputs": [
    {
     "name": "stderr",
     "output_type": "stream",
     "text": [
      "2022-09-26 21:48:06 [scrapy.utils.log] INFO: Scrapy 2.6.1 started (bot: scrapybot)\n",
      "2022-09-26 21:48:06 [scrapy.utils.log] INFO: Versions: lxml 4.8.0.0, libxml2 2.9.12, cssselect 1.1.0, parsel 1.6.0, w3lib 1.21.0, Twisted 22.2.0, Python 3.9.12 (main, Apr  4 2022, 05:22:27) [MSC v.1916 64 bit (AMD64)], pyOpenSSL 21.0.0 (OpenSSL 1.1.1n  15 Mar 2022), cryptography 3.4.8, Platform Windows-10-10.0.19043-SP0\n",
      "2022-09-26 21:48:06 [scrapy.crawler] INFO: Overridden settings:\n",
      "{'LOG_LEVEL': 30,\n",
      " 'USER_AGENT': 'Mozilla/4.0 (compatible; MSIE 7.0; Windows NT 5.1)'}\n",
      "2022-09-26 21:48:06 [py.warnings] WARNING: D:\\David\\Documents\\anaconda3\\lib\\site-packages\\scrapy\\extensions\\feedexport.py:289: ScrapyDeprecationWarning: The `FEED_URI` and `FEED_FORMAT` settings have been deprecated in favor of the `FEEDS` setting. Please see the `FEEDS` setting docs for more details\n",
      "  exporter = cls(crawler)\n",
      "\n"
     ]
    }
   ],
   "source": [
    "process = CrawlerProcess({\n",
    "    'USER_AGENT': 'Mozilla/4.0 (compatible; MSIE 7.0; Windows NT 5.1)'\n",
    "})\n",
    "\n",
    "process.crawl(BooksSpider)\n",
    "process.start()"
   ]
  },
  {
   "cell_type": "code",
   "execution_count": 30,
   "id": "dcb4e94a",
   "metadata": {},
   "outputs": [
    {
     "data": {
      "text/html": [
       "<div>\n",
       "<style scoped>\n",
       "    .dataframe tbody tr th:only-of-type {\n",
       "        vertical-align: middle;\n",
       "    }\n",
       "\n",
       "    .dataframe tbody tr th {\n",
       "        vertical-align: top;\n",
       "    }\n",
       "\n",
       "    .dataframe thead th {\n",
       "        text-align: right;\n",
       "    }\n",
       "</style>\n",
       "<table border=\"1\" class=\"dataframe\">\n",
       "  <thead>\n",
       "    <tr style=\"text-align: right;\">\n",
       "      <th></th>\n",
       "      <th>Title</th>\n",
       "      <th>Author</th>\n",
       "    </tr>\n",
       "  </thead>\n",
       "  <tbody>\n",
       "    <tr>\n",
       "      <th>0</th>\n",
       "      <td>To Kill a Mockingbird</td>\n",
       "      <td>Harper Lee</td>\n",
       "    </tr>\n",
       "    <tr>\n",
       "      <th>1</th>\n",
       "      <td>Harry Potter and the Sorcerer's Stone (Harry P...</td>\n",
       "      <td>J.K. Rowling</td>\n",
       "    </tr>\n",
       "    <tr>\n",
       "      <th>2</th>\n",
       "      <td>Pride and Prejudice</td>\n",
       "      <td>Jane Austen</td>\n",
       "    </tr>\n",
       "    <tr>\n",
       "      <th>3</th>\n",
       "      <td>The Diary of a Young Girl</td>\n",
       "      <td>Anne Frank</td>\n",
       "    </tr>\n",
       "    <tr>\n",
       "      <th>4</th>\n",
       "      <td>Animal Farm</td>\n",
       "      <td>George Orwell</td>\n",
       "    </tr>\n",
       "    <tr>\n",
       "      <th>...</th>\n",
       "      <td>...</td>\n",
       "      <td>...</td>\n",
       "    </tr>\n",
       "    <tr>\n",
       "      <th>95</th>\n",
       "      <td>Atlas Shrugged</td>\n",
       "      <td>Ayn Rand</td>\n",
       "    </tr>\n",
       "    <tr>\n",
       "      <th>96</th>\n",
       "      <td>The Brothers Karamazov</td>\n",
       "      <td>Fyodor Dostoevsky</td>\n",
       "    </tr>\n",
       "    <tr>\n",
       "      <th>97</th>\n",
       "      <td>The Book of Mormon: Another Testament of Jesus...</td>\n",
       "      <td>Anonymous</td>\n",
       "    </tr>\n",
       "    <tr>\n",
       "      <th>98</th>\n",
       "      <td>The Poisonwood Bible</td>\n",
       "      <td>Barbara Kingsolver</td>\n",
       "    </tr>\n",
       "    <tr>\n",
       "      <th>99</th>\n",
       "      <td>I Know Why the Caged Bird Sings (Maya Angelou'...</td>\n",
       "      <td>Maya Angelou</td>\n",
       "    </tr>\n",
       "  </tbody>\n",
       "</table>\n",
       "<p>100 rows × 2 columns</p>\n",
       "</div>"
      ],
      "text/plain": [
       "                                                Title              Author\n",
       "0                               To Kill a Mockingbird          Harper Lee\n",
       "1   Harry Potter and the Sorcerer's Stone (Harry P...        J.K. Rowling\n",
       "2                                 Pride and Prejudice         Jane Austen\n",
       "3                           The Diary of a Young Girl          Anne Frank\n",
       "4                                         Animal Farm       George Orwell\n",
       "..                                                ...                 ...\n",
       "95                                     Atlas Shrugged            Ayn Rand\n",
       "96                             The Brothers Karamazov   Fyodor Dostoevsky\n",
       "97  The Book of Mormon: Another Testament of Jesus...           Anonymous\n",
       "98                               The Poisonwood Bible  Barbara Kingsolver\n",
       "99  I Know Why the Caged Bird Sings (Maya Angelou'...        Maya Angelou\n",
       "\n",
       "[100 rows x 2 columns]"
      ]
     },
     "execution_count": 30,
     "metadata": {},
     "output_type": "execute_result"
    }
   ],
   "source": [
    "import pandas as pd\n",
    "dfjson = pd.read_json('bestBooks.jl', lines=True)\n",
    "dfjson"
   ]
  },
  {
   "cell_type": "code",
   "execution_count": null,
   "id": "39a35620",
   "metadata": {},
   "outputs": [],
   "source": []
  }
 ],
 "metadata": {
  "kernelspec": {
   "display_name": "Python 3 (ipykernel)",
   "language": "python",
   "name": "python3"
  },
  "language_info": {
   "codemirror_mode": {
    "name": "ipython",
    "version": 3
   },
   "file_extension": ".py",
   "mimetype": "text/x-python",
   "name": "python",
   "nbconvert_exporter": "python",
   "pygments_lexer": "ipython3",
   "version": "3.9.12"
  }
 },
 "nbformat": 4,
 "nbformat_minor": 5
}
